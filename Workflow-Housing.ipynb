{
 "cells": [
  {
   "cell_type": "markdown",
   "metadata": {},
   "source": [
    "# Import software libraries"
   ]
  },
  {
   "cell_type": "code",
   "execution_count": 1,
   "metadata": {},
   "outputs": [
    {
     "name": "stdout",
     "output_type": "stream",
     "text": [
      "Libraries used in this project:\n",
      "- NumPy 1.16.2\n",
      "- Pandas 0.24.2\n",
      "- Matplotlib 3.0.3\n",
      "- SciPy 1.2.1\n",
      "- Scikit-learn 0.20.3\n",
      "- Python 3.7.6 | packaged by conda-forge | (default, Mar 23 2020, 23:03:20) \n",
      "[GCC 7.3.0]\n",
      "\n"
     ]
    }
   ],
   "source": [
    "import sys                             # Read system parameters\n",
    "import os                              # Interact with the operating system\n",
    "import numpy as np                     # Work with multi-dimensional arrays and matrices\n",
    "import pandas as pd                    # Manipulate and analyze data\n",
    "import matplotlib                      # Create 2D charts\n",
    "import scipy as sp                     # Perform scientific computing and advanced mathematics\n",
    "import sklearn                         # Perform data mining and analysis\n",
    "import seaborn as sb                   # Perform data visualization\n",
    "\n",
    "# Summarize software libraries used\n",
    "print('Libraries used in this project:')\n",
    "print('- NumPy {}'.format(np.__version__))\n",
    "print('- Pandas {}'.format(pd.__version__))\n",
    "print('- Matplotlib {}'.format(matplotlib.__version__))\n",
    "print('- SciPy {}'.format(sp.__version__))\n",
    "print('- Scikit-learn {}'.format(sklearn.__version__))\n",
    "print('- Python {}\\n'.format(sys.version))"
   ]
  },
  {
   "cell_type": "markdown",
   "metadata": {},
   "source": [
    "# Load the dataset"
   ]
  },
  {
   "cell_type": "code",
   "execution_count": 2,
   "metadata": {},
   "outputs": [
    {
     "name": "stdout",
     "output_type": "stream",
     "text": [
      "Data files in this project: ['kc_house_data.csv']\n",
      "Loaded 21613 records from ./housing_data/kc_house_data.csv.\n",
      "\n"
     ]
    }
   ],
   "source": [
    "PROJECT_ROOT_DIR = '.'\n",
    "DATA_PATH = os.path.join(PROJECT_ROOT_DIR, 'housing_data')\n",
    "print('Data files in this project:', os.listdir(DATA_PATH) )\n",
    "\n",
    "# Read the raw dataset\n",
    "data_raw_file = os.path.join( DATA_PATH, 'kc_house_data.csv' )\n",
    "data_raw = pd.read_csv( data_raw_file )\n",
    "print('Loaded {} records from {}.\\n'.format(len(data_raw), data_raw_file))"
   ]
  },
  {
   "cell_type": "markdown",
   "metadata": {},
   "source": [
    "# Get acquainted with the dataset"
   ]
  },
  {
   "cell_type": "code",
   "execution_count": 3,
   "metadata": {},
   "outputs": [
    {
     "name": "stdout",
     "output_type": "stream",
     "text": [
      "<class 'pandas.core.frame.DataFrame'>\n",
      "RangeIndex: 21613 entries, 0 to 21612\n",
      "Data columns (total 21 columns):\n",
      "id               21613 non-null int64\n",
      "date             21613 non-null object\n",
      "price            21613 non-null float64\n",
      "bedrooms         21613 non-null int64\n",
      "bathrooms        21613 non-null float64\n",
      "sqft_living      21613 non-null int64\n",
      "sqft_lot         21613 non-null int64\n",
      "floors           21613 non-null float64\n",
      "waterfront       21613 non-null int64\n",
      "view             21613 non-null int64\n",
      "condition        21613 non-null int64\n",
      "grade            21613 non-null int64\n",
      "sqft_above       21613 non-null int64\n",
      "sqft_basement    21613 non-null int64\n",
      "yr_built         21613 non-null int64\n",
      "yr_renovated     21613 non-null int64\n",
      "zipcode          21613 non-null int64\n",
      "lat              21613 non-null float64\n",
      "long             21613 non-null float64\n",
      "sqft_living15    21613 non-null int64\n",
      "sqft_lot15       21613 non-null int64\n",
      "dtypes: float64(5), int64(15), object(1)\n",
      "memory usage: 3.5+ MB\n",
      "None\n"
     ]
    }
   ],
   "source": [
    "print(data_raw.info())     # View features and data types"
   ]
  },
  {
   "cell_type": "markdown",
   "metadata": {},
   "source": [
    "# Show example records"
   ]
  },
  {
   "cell_type": "code",
   "execution_count": 4,
   "metadata": {},
   "outputs": [
    {
     "name": "stdout",
     "output_type": "stream",
     "text": [
      "           id             date      price  bedrooms  bathrooms  sqft_living  \\\n",
      "0  7129300520  20141013T000000   221900.0         3       1.00         1180   \n",
      "1  6414100192  20141209T000000   538000.0         3       2.25         2570   \n",
      "2  5631500400  20150225T000000   180000.0         2       1.00          770   \n",
      "3  2487200875  20141209T000000   604000.0         4       3.00         1960   \n",
      "4  1954400510  20150218T000000   510000.0         3       2.00         1680   \n",
      "5  7237550310  20140512T000000  1225000.0         4       4.50         5420   \n",
      "6  1321400060  20140627T000000   257500.0         3       2.25         1715   \n",
      "7  2008000270  20150115T000000   291850.0         3       1.50         1060   \n",
      "8  2414600126  20150415T000000   229500.0         3       1.00         1780   \n",
      "9  3793500160  20150312T000000   323000.0         3       2.50         1890   \n",
      "\n",
      "   sqft_lot  floors  waterfront  view  ...  grade  sqft_above  sqft_basement  \\\n",
      "0      5650     1.0           0     0  ...      7        1180              0   \n",
      "1      7242     2.0           0     0  ...      7        2170            400   \n",
      "2     10000     1.0           0     0  ...      6         770              0   \n",
      "3      5000     1.0           0     0  ...      7        1050            910   \n",
      "4      8080     1.0           0     0  ...      8        1680              0   \n",
      "5    101930     1.0           0     0  ...     11        3890           1530   \n",
      "6      6819     2.0           0     0  ...      7        1715              0   \n",
      "7      9711     1.0           0     0  ...      7        1060              0   \n",
      "8      7470     1.0           0     0  ...      7        1050            730   \n",
      "9      6560     2.0           0     0  ...      7        1890              0   \n",
      "\n",
      "   yr_built  yr_renovated  zipcode      lat     long  sqft_living15  \\\n",
      "0      1955             0    98178  47.5112 -122.257           1340   \n",
      "1      1951          1991    98125  47.7210 -122.319           1690   \n",
      "2      1933             0    98028  47.7379 -122.233           2720   \n",
      "3      1965             0    98136  47.5208 -122.393           1360   \n",
      "4      1987             0    98074  47.6168 -122.045           1800   \n",
      "5      2001             0    98053  47.6561 -122.005           4760   \n",
      "6      1995             0    98003  47.3097 -122.327           2238   \n",
      "7      1963             0    98198  47.4095 -122.315           1650   \n",
      "8      1960             0    98146  47.5123 -122.337           1780   \n",
      "9      2003             0    98038  47.3684 -122.031           2390   \n",
      "\n",
      "   sqft_lot15  \n",
      "0        5650  \n",
      "1        7639  \n",
      "2        8062  \n",
      "3        5000  \n",
      "4        7503  \n",
      "5      101930  \n",
      "6        6819  \n",
      "7        9711  \n",
      "8        8113  \n",
      "9        7570  \n",
      "\n",
      "[10 rows x 21 columns]\n"
     ]
    }
   ],
   "source": [
    "# View first ten records\n",
    "print(data_raw.head(10))"
   ]
  },
  {
   "cell_type": "markdown",
   "metadata": {},
   "source": [
    "# Examine descriptive statistics"
   ]
  },
  {
   "cell_type": "code",
   "execution_count": 5,
   "metadata": {
    "scrolled": false
   },
   "outputs": [
    {
     "name": "stdout",
     "output_type": "stream",
     "text": [
      "                 id      price  bedrooms  bathrooms  sqft_living   sqft_lot  \\\n",
      "count      21613.00   21613.00  21613.00   21613.00     21613.00   21613.00   \n",
      "mean  4580301520.86  540088.14      3.37       2.11      2079.90   15106.97   \n",
      "std   2876565571.31  367127.20      0.93       0.77       918.44   41420.51   \n",
      "min      1000102.00   75000.00      0.00       0.00       290.00     520.00   \n",
      "25%   2123049194.00  321950.00      3.00       1.75      1427.00    5040.00   \n",
      "50%   3904930410.00  450000.00      3.00       2.25      1910.00    7618.00   \n",
      "75%   7308900445.00  645000.00      4.00       2.50      2550.00   10688.00   \n",
      "max   9900000190.00 7700000.00     33.00       8.00     13540.00 1651359.00   \n",
      "\n",
      "        floors  waterfront     view  condition    grade  sqft_above  \\\n",
      "count 21613.00    21613.00 21613.00   21613.00 21613.00    21613.00   \n",
      "mean      1.49        0.01     0.23       3.41     7.66     1788.39   \n",
      "std       0.54        0.09     0.77       0.65     1.18      828.09   \n",
      "min       1.00        0.00     0.00       1.00     1.00      290.00   \n",
      "25%       1.00        0.00     0.00       3.00     7.00     1190.00   \n",
      "50%       1.50        0.00     0.00       3.00     7.00     1560.00   \n",
      "75%       2.00        0.00     0.00       4.00     8.00     2210.00   \n",
      "max       3.50        1.00     4.00       5.00    13.00     9410.00   \n",
      "\n",
      "       sqft_basement  yr_built  yr_renovated  zipcode      lat     long  \\\n",
      "count       21613.00  21613.00      21613.00 21613.00 21613.00 21613.00   \n",
      "mean          291.51   1971.01         84.40 98077.94    47.56  -122.21   \n",
      "std           442.58     29.37        401.68    53.51     0.14     0.14   \n",
      "min             0.00   1900.00          0.00 98001.00    47.16  -122.52   \n",
      "25%             0.00   1951.00          0.00 98033.00    47.47  -122.33   \n",
      "50%             0.00   1975.00          0.00 98065.00    47.57  -122.23   \n",
      "75%           560.00   1997.00          0.00 98118.00    47.68  -122.12   \n",
      "max          4820.00   2015.00       2015.00 98199.00    47.78  -121.31   \n",
      "\n",
      "       sqft_living15  sqft_lot15  \n",
      "count       21613.00    21613.00  \n",
      "mean         1986.55    12768.46  \n",
      "std           685.39    27304.18  \n",
      "min           399.00      651.00  \n",
      "25%          1490.00     5100.00  \n",
      "50%          1840.00     7620.00  \n",
      "75%          2360.00    10083.00  \n",
      "max          6210.00   871200.00  \n"
     ]
    }
   ],
   "source": [
    "with pd.option_context('float_format', '{:.2f}'.format): \n",
    "    print( data_raw.describe() )"
   ]
  },
  {
   "cell_type": "markdown",
   "metadata": {},
   "source": [
    "# Summarize the most common values"
   ]
  },
  {
   "cell_type": "code",
   "execution_count": 6,
   "metadata": {},
   "outputs": [
    {
     "data": {
      "text/html": [
       "<div>\n",
       "<style scoped>\n",
       "    .dataframe tbody tr th:only-of-type {\n",
       "        vertical-align: middle;\n",
       "    }\n",
       "\n",
       "    .dataframe tbody tr th {\n",
       "        vertical-align: top;\n",
       "    }\n",
       "\n",
       "    .dataframe thead th {\n",
       "        text-align: right;\n",
       "    }\n",
       "</style>\n",
       "<table border=\"1\" class=\"dataframe\">\n",
       "  <thead>\n",
       "    <tr style=\"text-align: right;\">\n",
       "      <th></th>\n",
       "      <th>view</th>\n",
       "      <th>waterfront</th>\n",
       "      <th>grade</th>\n",
       "      <th>zipcode</th>\n",
       "      <th>bedrooms</th>\n",
       "      <th>bathrooms</th>\n",
       "      <th>floors</th>\n",
       "    </tr>\n",
       "  </thead>\n",
       "  <tbody>\n",
       "    <tr>\n",
       "      <th>0</th>\n",
       "      <td>0</td>\n",
       "      <td>0</td>\n",
       "      <td>7</td>\n",
       "      <td>98103</td>\n",
       "      <td>3</td>\n",
       "      <td>2.5</td>\n",
       "      <td>1.0</td>\n",
       "    </tr>\n",
       "  </tbody>\n",
       "</table>\n",
       "</div>"
      ],
      "text/plain": [
       "   view  waterfront  grade  zipcode  bedrooms  bathrooms  floors\n",
       "0     0           0      7    98103         3        2.5     1.0"
      ]
     },
     "execution_count": 6,
     "metadata": {},
     "output_type": "execute_result"
    }
   ],
   "source": [
    "# Summarize most common values for features with non-continuous or categorical values\n",
    "features_to_summarize = ['view','waterfront','grade','zipcode','bedrooms','bathrooms','floors']\n",
    "data_raw[features_to_summarize].mode()"
   ]
  },
  {
   "cell_type": "markdown",
   "metadata": {},
   "source": [
    "# Show correlations with price"
   ]
  },
  {
   "cell_type": "code",
   "execution_count": 7,
   "metadata": {},
   "outputs": [
    {
     "name": "stdout",
     "output_type": "stream",
     "text": [
      "Pearson correlations with price\n"
     ]
    },
    {
     "data": {
      "text/plain": [
       "price            1.000000\n",
       "sqft_living      0.702035\n",
       "grade            0.667434\n",
       "sqft_above       0.605567\n",
       "sqft_living15    0.585379\n",
       "bathrooms        0.525138\n",
       "view             0.397293\n",
       "sqft_basement    0.323816\n",
       "bedrooms         0.308350\n",
       "lat              0.307003\n",
       "waterfront       0.266369\n",
       "floors           0.256794\n",
       "yr_renovated     0.126434\n",
       "sqft_lot         0.089661\n",
       "sqft_lot15       0.082447\n",
       "yr_built         0.054012\n",
       "condition        0.036362\n",
       "long             0.021626\n",
       "id              -0.016762\n",
       "zipcode         -0.053203\n",
       "Name: price, dtype: float64"
      ]
     },
     "execution_count": 7,
     "metadata": {},
     "output_type": "execute_result"
    }
   ],
   "source": [
    "# Look for correlations with price\n",
    "print('Pearson correlations with price')\n",
    "corr_matrix = data_raw.corr()\n",
    "corr_matrix['price'].sort_values(ascending=False)"
   ]
  },
  {
   "cell_type": "markdown",
   "metadata": {},
   "source": [
    "# Analyze cross correlations"
   ]
  },
  {
   "cell_type": "code",
   "execution_count": null,
   "metadata": {},
   "outputs": [],
   "source": [
    "# Use Matplotlib for visualization\n",
    "%matplotlib inline\n",
    "import matplotlib as mpl\n",
    "import matplotlib.pyplot as plt\n",
    "\n",
    "# Specify size and title for the visualization\n",
    "f, axes = plt.subplots(figsize=(20, 20))\n",
    "plt.title('All Correlations',fontsize=32)\n",
    "\n",
    "# For the purpose of visualization, we'll use a different order for the features.\n",
    "# We'll start with price, to make it easier to compare all other features with it.\n",
    "features = ['price','bedrooms','bathrooms',\n",
    "            'sqft_living','sqft_living15','sqft_lot','sqft_lot15','sqft_above','sqft_basement',\n",
    "            'floors','waterfront',\n",
    "            'view','condition','grade',\n",
    "            'yr_built','yr_renovated',\n",
    "            'zipcode','lat','long']\n",
    "\n",
    "# Use Seaborn library to plot the correlation matrix as a heatmap\n",
    "sb.heatmap(data_raw[features].corr(),\n",
    "           linewidths = 3.0,\n",
    "           square = True,\n",
    "           cmap = 'Greens',\n",
    "           linecolor='w',\n",
    "           annot=True,\n",
    "           annot_kws={'size':11},\n",
    "           cbar_kws={'shrink': .5});\n"
   ]
  },
  {
   "cell_type": "markdown",
   "metadata": {},
   "source": [
    "# Use histograms to visualize the distribution of various features"
   ]
  },
  {
   "cell_type": "code",
   "execution_count": null,
   "metadata": {},
   "outputs": [],
   "source": [
    "mpl.rc('axes', labelsize=14)\n",
    "mpl.rc('xtick', labelsize=12)\n",
    "mpl.rc('ytick', labelsize=12)\n",
    "\n",
    "data_raw.hist(figsize=(20,15));\n",
    "plt.figure();"
   ]
  },
  {
   "cell_type": "markdown",
   "metadata": {},
   "source": [
    "# Visualize with a geographic map to gain insights regarding location"
   ]
  },
  {
   "cell_type": "code",
   "execution_count": null,
   "metadata": {
    "scrolled": false
   },
   "outputs": [],
   "source": [
    "# To avoid overwhelming the visualization tool, we'll only plot every Nth house.\n",
    "n_homes = 20\n",
    "data_raw_subset = data_raw.sort_values(by =['price'], ascending = False)[::n_homes]\n",
    "\n",
    "# Output highest house price\n",
    "max_price = data_raw_subset.loc[data_raw_subset['price'].idxmax()]['price']\n",
    "print(f'The highest home price in this dataset is ${max_price:,.0f}')\n",
    "\n",
    "# Descriptions of the building grades used in King County\n",
    "# Values obtained from http://www5.kingcounty.gov/sdc/FGDCDocs/resbldg_extr_faq.htm\n",
    "bldg_grades = ['Unknown','Cabin','Substandard','Poor','Low','Fair',\n",
    "               'Low Average','Average','Good','Better',\n",
    "               'Very Good','Excellent','Luxury','Mansion','Exceptional Properties']\n",
    "\n",
    "# Use Folium library to plot values on a map.\n",
    "import folium\n",
    "\n",
    "# Generate the base map, centering on King County.\n",
    "base_map = folium.Map(location = [47.5300, -122.2000],\n",
    "                      control_scale = True, \n",
    "                      max_zoom = 20,\n",
    "                      zoom_start = 10,\n",
    "                      zoom_control = True)\n",
    "\n",
    "# Plot homes by price.\n",
    "for index, row in data_raw_subset.iterrows():\n",
    "    \n",
    "    # Get the grade description for this row.\n",
    "    grade_desc = bldg_grades[row['grade']]\n",
    "    waterfront_desc = \"Yes\" if (row['waterfront'] == 1) else \"No\"\n",
    "\n",
    "    # Add popup text. Click each point to show details.\n",
    "    popup_text = '<br>'.join(['King&nbsp;County&nbsp;Housing&nbsp;Sales&nbsp;Data',\n",
    "                              'Price:&nbsp;${:,.0f}',\n",
    "                              'Sqft&nbsp;Living:&nbsp;{:,.0f}',\n",
    "                              'Grade:&nbsp;{}&nbsp;({})',\n",
    "                              'Location:&nbsp;[{:.3f},{:.3f}]',\n",
    "                              'Waterfront:&nbsp;{}',\n",
    "                              'Zipcode:&nbsp;{}'])\n",
    "    \n",
    "    popup_text = popup_text.format(row['price'],\n",
    "                                   row['sqft_living'],\n",
    "                                   row['grade'], grade_desc,\n",
    "                                   row['lat'], row['long'],\n",
    "                                   waterfront_desc,\n",
    "                                   row['zipcode'])\n",
    "    \n",
    "    # Add each home to the map, but show larger dots for higher prices.\n",
    "    scaling_value = (row['price'] / max_price)      # 1.0 for highest price.\n",
    "    folium.CircleMarker([row['lat'], row['long']],\n",
    "                        radius = 25 * scaling_value,\n",
    "                        weight = 1,\n",
    "                        fill = True,\n",
    "                        fillColor = '#0000FF',\n",
    "                        fillOpacity = 0.7,\n",
    "                        color = '#0000FF',\n",
    "                        opacity = 0.7,\n",
    "                        popup = popup_text).add_to(base_map)\n",
    "\n",
    "base_map"
   ]
  },
  {
   "cell_type": "markdown",
   "metadata": {},
   "source": [
    "# Split the data into training and testing sets and labels"
   ]
  },
  {
   "cell_type": "code",
   "execution_count": null,
   "metadata": {},
   "outputs": [],
   "source": [
    "from sklearn.model_selection import train_test_split\n",
    "\n",
    "# Price is the dependent variable (value to be predicted), so it will be\n",
    "# removed from the training data and put into a separate dataframe for labels.\n",
    "\n",
    "label_columns = ['price']\n",
    "\n",
    "training_columns = ['sqft_living',\n",
    "                   'grade',  \n",
    "                   'bathrooms', \n",
    "                   'view',\n",
    "                   'sqft_basement', \n",
    "                   'bedrooms', \n",
    "                   'lat',\n",
    "                   'waterfront',\n",
    "                   'floors',\n",
    "                   'yr_renovated',\n",
    "                   'sqft_lot',\n",
    "                   'yr_built',\n",
    "                   'condition',\n",
    "                   'long', \n",
    "                   'zipcode']\n",
    "\n",
    "# Split independent and dependent variables.\n",
    "data_train,data_test,data_train_labels,data_test_labels = train_test_split(data_raw[training_columns], \n",
    "                                                                           data_raw[label_columns], \n",
    "                                                                           random_state = 42)\n",
    "\n",
    "# Compare the number of rows and columns in the original data to the training and testing sets\n",
    "print(f'Original Set:      {data_raw.shape}')\n",
    "print('------------------------------')\n",
    "print(f'Training Features: {data_train.shape}')\n",
    "print(f'Testing Features:  {data_test.shape}')\n",
    "print(f'Training Labels:   {data_train_labels.shape}')\n",
    "print(f'Testing Labels:    {data_test_labels.shape}')"
   ]
  },
  {
   "cell_type": "markdown",
   "metadata": {},
   "source": [
    "# Build and test a linear regression model - Round 1"
   ]
  },
  {
   "cell_type": "code",
   "execution_count": null,
   "metadata": {},
   "outputs": [],
   "source": [
    "from sklearn.linear_model import LinearRegression\n",
    "from time import time\n",
    "\n",
    "# Create a linear regression model\n",
    "regressor = LinearRegression()\n",
    "\n",
    "# Fit the model using training data and labels\n",
    "start = time()\n",
    "regressor.fit(data_train, data_train_labels);\n",
    "end=time()\n",
    "train_time = (end - start) * 1000\n",
    "print('Model took {:,.2f} milliseconds to fit.'.format(train_time))"
   ]
  },
  {
   "cell_type": "markdown",
   "metadata": {},
   "source": [
    "# Use the holdout dataset to test the model"
   ]
  },
  {
   "cell_type": "code",
   "execution_count": null,
   "metadata": {},
   "outputs": [],
   "source": [
    "# Evaluate the model's performance using test data and labels\n",
    "score = regressor.score(data_test, data_test_labels)\n",
    "'Score: {}%'.format(int(round(score * 100)))"
   ]
  },
  {
   "cell_type": "markdown",
   "metadata": {},
   "source": [
    "# Compare predicted values to actual values"
   ]
  },
  {
   "cell_type": "code",
   "execution_count": null,
   "metadata": {
    "scrolled": false
   },
   "outputs": [],
   "source": [
    "predicted_prices = regressor.predict(data_test)\n",
    "predictions = data_test_labels.copy()\n",
    "predictions['predicted'] = predicted_prices\n",
    "\n",
    "# View examples comparing actual prices to predicted prices\n",
    "with pd.option_context('float_format', '${:,.2f}'.format): print( predictions.head(10) )"
   ]
  },
  {
   "cell_type": "code",
   "execution_count": null,
   "metadata": {},
   "outputs": [],
   "source": [
    "def compare_pred_to_actual(chart_description):\n",
    "\n",
    "    N = 10 # Plot every Nth value to save time and space\n",
    "    pred_df = predictions.sort_values('price')[::N]\n",
    "\n",
    "    pred_df['diff'] = pred_df['price'] - pred_df['predicted']\n",
    "    pred_df['recnum'] = np.arange(len(pred_df))\n",
    "    pred_df['error_pct'] = abs(pred_df['diff']/pred_df['price'])*100\n",
    "\n",
    "    ax = plt.figure(figsize=[18,10])\n",
    "    plt.ylabel('Price')\n",
    "    plt.xlabel('House')\n",
    "    plt.plot(pred_df['recnum'], pred_df['price'], color='blue');\n",
    "    plt.scatter(pred_df['recnum'],\n",
    "                pred_df['predicted'], \n",
    "                pred_df['error_pct'], \n",
    "                color='red');\n",
    "\n",
    "    ax.legend(['Actual','Predicted'], \n",
    "              loc='lower center',\n",
    "              ncol=2, \n",
    "              title=chart_description)\n",
    "\n",
    "    plt.show()\n",
    "    \n",
    "# Compare the predicted prices to actual prices\n",
    "compare_pred_to_actual('House prices predicted using linear regression')"
   ]
  },
  {
   "cell_type": "markdown",
   "metadata": {},
   "source": [
    "# Identify outliers"
   ]
  },
  {
   "cell_type": "code",
   "execution_count": null,
   "metadata": {
    "scrolled": false
   },
   "outputs": [],
   "source": [
    "feature_list = ['price','bedrooms']\n",
    "\n",
    "for feature in feature_list:\n",
    "    plt.figure(figsize=(20,2))\n",
    "    bplot = sb.boxplot(x=feature, data=data_raw, orient=\"h\", fliersize=7)"
   ]
  },
  {
   "cell_type": "markdown",
   "metadata": {},
   "source": [
    "# Examine data values in the outliers"
   ]
  },
  {
   "cell_type": "code",
   "execution_count": null,
   "metadata": {
    "scrolled": false
   },
   "outputs": [],
   "source": [
    "# Houses with a value above $6,000,000\n",
    "data_train.loc[data_train_labels['price'] > 6000000]"
   ]
  },
  {
   "cell_type": "code",
   "execution_count": null,
   "metadata": {},
   "outputs": [],
   "source": [
    "# Houses with more than 11 bedrooms\n",
    "data_train.loc[data_train['bedrooms'] > 11]"
   ]
  },
  {
   "cell_type": "markdown",
   "metadata": {},
   "source": [
    "# Drop outliers from the training dataset"
   ]
  },
  {
   "cell_type": "code",
   "execution_count": null,
   "metadata": {},
   "outputs": [],
   "source": [
    "print(f'{len(data_train):6d} houses in the training dataset')\n",
    "\n",
    "# Keep only the rows for houses priced $6M or less\n",
    "data_train = data_train.loc[data_train_labels['price'] <= 6000000]\n",
    "data_train_labels = data_train_labels.loc[data_train_labels['price'] <= 6000000]\n",
    "print(f'{len(data_train):6d} houses remain after dropping those priced over $6M')\n",
    "\n",
    "# Keep only the rows for houses with 11 or fewer bedrooms\n",
    "data_train_labels = data_train_labels.loc[data_train['bedrooms'] <= 11]\n",
    "data_train = data_train.loc[data_train['bedrooms'] <= 11]\n",
    "print(f'{len(data_train):6d} houses remain after dropping those with more than 11 bedrooms')"
   ]
  },
  {
   "cell_type": "markdown",
   "metadata": {},
   "source": [
    "# Show statistics for the training features"
   ]
  },
  {
   "cell_type": "code",
   "execution_count": null,
   "metadata": {},
   "outputs": [],
   "source": [
    "# Show statistics for the features we'll be using, to prepare for feature scaling.\n",
    "with pd.option_context('float_format', '{:.2f}'.format):\n",
    "    print(data_train['sqft_living'].describe(), '\\n')\n",
    "    print(data_train_labels['price'].describe())"
   ]
  },
  {
   "cell_type": "markdown",
   "metadata": {},
   "source": [
    "# Compare the scale and distribution of price and sqft_living"
   ]
  },
  {
   "cell_type": "code",
   "execution_count": null,
   "metadata": {
    "scrolled": false
   },
   "outputs": [],
   "source": [
    "# Compare scale and distribution of price and sqft_living\n",
    "def compare_price_sqft():\n",
    "\n",
    "    print('Maximum price =', data_train_labels.loc[data_train_labels['price'].idxmax()]['price']);\n",
    "    print('Maximum sqft_living =', data_train.loc[data_train['sqft_living'].idxmax()]['sqft_living']);\n",
    "\n",
    "    fig = plt.figure(figsize=(15,3))\n",
    "    fig.subplots_adjust(wspace=.4)\n",
    "\n",
    "    plt.rc('axes', titlesize=9)     # fontsize of the axes title\n",
    "    plt.rc('axes', labelsize=11)    # fontsize of the x and y labels\n",
    "    plt.rc('xtick', labelsize=8)    # fontsize of the tick labels\n",
    "    plt.rc('ytick', labelsize=8)    # fontsize of the tick labels\n",
    "\n",
    "    ax1=fig.add_subplot(1, 3, 1)\n",
    "    plt.xlabel('price')\n",
    "    plt.hist(data_train_labels['price'], label='price');\n",
    "\n",
    "    ax2=fig.add_subplot(1, 3, 2)\n",
    "    plt.xlabel('sqft_living')\n",
    "    plt.hist(data_train['sqft_living'], label='sqft_living');\n",
    "\n",
    "    # View relationship between price and sqft_living\n",
    "    ax2=fig.add_subplot(1, 3, 3)\n",
    "    sb.scatterplot(x=data_train_labels['price'], y=data_train['sqft_living']);\n",
    "    \n",
    "compare_price_sqft()    "
   ]
  },
  {
   "cell_type": "markdown",
   "metadata": {},
   "source": [
    "# Transform price and sqft_living, and compare results"
   ]
  },
  {
   "cell_type": "code",
   "execution_count": null,
   "metadata": {},
   "outputs": [],
   "source": [
    "# Apply a log transformation to scale price and sqft_living\n",
    "data_train['sqft_living'] = np.log(data_train['sqft_living'])\n",
    "data_train_labels['price'] = np.log(data_train_labels['price'])\n",
    "\n",
    "# Log transformation must be applied to test dataset as well\n",
    "data_test['sqft_living'] = np.log(data_test['sqft_living'])\n",
    "data_test_labels['price'] = np.log(data_test_labels['price'])\n",
    "\n",
    "# Compare scale and distribution of price and sqft_living\n",
    "compare_price_sqft()"
   ]
  },
  {
   "cell_type": "markdown",
   "metadata": {},
   "source": [
    "# Build and test a linear regression model - Round 2"
   ]
  },
  {
   "cell_type": "code",
   "execution_count": null,
   "metadata": {},
   "outputs": [],
   "source": [
    "from sklearn.linear_model import LinearRegression\n",
    "\n",
    "# Create a linear regression model and fit it using the training data\n",
    "regressor = LinearRegression()\n",
    "\n",
    "start = time()\n",
    "regressor.fit(data_train, data_train_labels);\n",
    "end=time()\n",
    "train_time = (end - start) * 1000\n",
    "print('Model took {:,.2f} milliseconds to fit.'.format(train_time))\n",
    "\n",
    "# Evaluate the model's performance\n",
    "score = regressor.score(data_test, data_test_labels)\n",
    "'Score: {}%'.format(int(round(score * 100)))"
   ]
  },
  {
   "cell_type": "markdown",
   "metadata": {},
   "source": [
    "# Compare the first ten predictions to actual values"
   ]
  },
  {
   "cell_type": "code",
   "execution_count": null,
   "metadata": {
    "scrolled": false
   },
   "outputs": [],
   "source": [
    "# y_pred is the predicted prices that will be produced by testing\n",
    "predicted_prices = regressor.predict(data_test)\n",
    "predictions = data_test_labels.copy()\n",
    "predictions['predicted'] = predicted_prices\n",
    "\n",
    "# View examples of the transformed prices\n",
    "with pd.option_context('float_format', '${:,.2f}'.format): print( predictions.head(10) )"
   ]
  },
  {
   "cell_type": "markdown",
   "metadata": {},
   "source": [
    "# Convert the prices back to actual values"
   ]
  },
  {
   "cell_type": "code",
   "execution_count": null,
   "metadata": {},
   "outputs": [],
   "source": [
    "# Need to call exp() function to convert back from log value to actual price.\n",
    "import math\n",
    "predictions = predictions.applymap(math.exp)\n",
    "\n",
    "# View examples of the actual and predicted prices\n",
    "with pd.option_context('float_format', '${:,.2f}'.format): print( predictions.head(10) )"
   ]
  },
  {
   "cell_type": "markdown",
   "metadata": {},
   "source": [
    "# Compare predicted values to actual values (Round 2)"
   ]
  },
  {
   "cell_type": "code",
   "execution_count": null,
   "metadata": {
    "scrolled": false
   },
   "outputs": [],
   "source": [
    "# Compare the predicted prices to actual prices\n",
    "compare_pred_to_actual('House prices predicted using linear regression (Round 2)')"
   ]
  },
  {
   "cell_type": "markdown",
   "metadata": {},
   "source": [
    "# Try a different algorithm"
   ]
  },
  {
   "cell_type": "code",
   "execution_count": null,
   "metadata": {
    "scrolled": false
   },
   "outputs": [],
   "source": [
    "# Create a model using the random forest algorithm.\n",
    "from sklearn.ensemble import RandomForestRegressor\n",
    "\n",
    "rnd_forest = RandomForestRegressor(n_estimators=100,random_state=0)\n",
    "\n",
    "start = time()\n",
    "rnd_forest.fit(data_train, data_train_labels.values.ravel())\n",
    "end=time()\n",
    "train_time = (end - start) * 1000\n",
    "print('Model took {:,.2f} milliseconds to fit.'.format(train_time))\n",
    "\n",
    "score = rnd_forest.score(data_test, data_test_labels)\n",
    "print('Score: {}%'.format(int(round(score * 100))))"
   ]
  },
  {
   "cell_type": "markdown",
   "metadata": {},
   "source": [
    "# View examples of the actual and predicted prices"
   ]
  },
  {
   "cell_type": "code",
   "execution_count": null,
   "metadata": {},
   "outputs": [],
   "source": [
    "predicted_prices = rnd_forest.predict(data_test)\n",
    "\n",
    "predictions = data_test_labels.copy()\n",
    "predictions['predicted'] = predicted_prices\n",
    "\n",
    "# Scale the prices back to actual values.\n",
    "predictions = predictions.applymap(math.exp)\n",
    "\n",
    "# View examples of the actual and predicted prices\n",
    "with pd.option_context('float_format', '${:,.2f}'.format): print( predictions.head(10) )"
   ]
  },
  {
   "cell_type": "code",
   "execution_count": null,
   "metadata": {},
   "outputs": [],
   "source": [
    "# Compare the new predicted prices to actual prices\n",
    "compare_pred_to_actual('House prices predicted using random forest')"
   ]
  }
 ],
 "metadata": {
  "kernelspec": {
   "display_name": "Python 3",
   "language": "python",
   "name": "python3"
  },
  "language_info": {
   "codemirror_mode": {
    "name": "ipython",
    "version": 3
   },
   "file_extension": ".py",
   "mimetype": "text/x-python",
   "name": "python",
   "nbconvert_exporter": "python",
   "pygments_lexer": "ipython3",
   "version": "3.7.6"
  },
  "nav_menu": {
   "height": "279px",
   "width": "309px"
  },
  "toc": {
   "nav_menu": {},
   "number_sections": true,
   "sideBar": true,
   "skip_h1_title": false,
   "toc_cell": false,
   "toc_position": {},
   "toc_section_display": "block",
   "toc_window_display": false
  }
 },
 "nbformat": 4,
 "nbformat_minor": 1
}
